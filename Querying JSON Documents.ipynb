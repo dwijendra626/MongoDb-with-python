{
 "cells": [
  {
   "cell_type": "code",
   "execution_count": 1,
   "metadata": {},
   "outputs": [],
   "source": [
    "import pymongo\n",
    "\n",
    "client=pymongo.MongoClient('mongodb://127.0.0.1:27017/')\n",
    "\n",
    "mydb=client['Employee']\n",
    "empinfo=mydb.employeeinformation"
   ]
  },
  {
   "cell_type": "code",
   "execution_count": 2,
   "metadata": {},
   "outputs": [],
   "source": [
    "record={\n",
    "        'firstname':'Dwijendra',\n",
    "        'lastname':'Sahoo',\n",
    "        'department':'Analytics',\n",
    "        'qualification':'BE',\n",
    "        'age':26\n",
    "        }"
   ]
  },
  {
   "cell_type": "code",
   "execution_count": 3,
   "metadata": {},
   "outputs": [
    {
     "data": {
      "text/plain": [
       "<pymongo.results.InsertOneResult at 0x23cd6dd7d48>"
      ]
     },
     "execution_count": 3,
     "metadata": {},
     "output_type": "execute_result"
    }
   ],
   "source": [
    "empinfo.insert_one(record)"
   ]
  },
  {
   "cell_type": "code",
   "execution_count": 4,
   "metadata": {},
   "outputs": [],
   "source": [
    "records=[{\n",
    "        'firstname':'John',\n",
    "        'lastname':'Doe',\n",
    "        'department':'Analytics',\n",
    "        'qualification':'statistics',\n",
    "        'age':35\n",
    "        \n",
    "        },\n",
    "         {\n",
    "        'firstname':'John ',\n",
    "        'lastname':'Smith',\n",
    "        'department':'Analytics',\n",
    "        'qualification':'masters',\n",
    "        'age':30\n",
    "        \n",
    "        },\n",
    "        {\n",
    "        'firstname':'Manish',\n",
    "        'lastname':'Sen',\n",
    "        'department':'Analytics',\n",
    "        'qualification':'phd',\n",
    "        'age':34\n",
    "        \n",
    "        },\n",
    "        {\n",
    "        'firstname':'Ram',\n",
    "        'lastname':'Singh',\n",
    "        'department':'Analytics',\n",
    "        'qualification':'master',\n",
    "        'age':32\n",
    "        \n",
    "        }]"
   ]
  },
  {
   "cell_type": "code",
   "execution_count": 5,
   "metadata": {},
   "outputs": [
    {
     "data": {
      "text/plain": [
       "<pymongo.results.InsertManyResult at 0x23cd7066508>"
      ]
     },
     "execution_count": 5,
     "metadata": {},
     "output_type": "execute_result"
    }
   ],
   "source": [
    "empinfo.insert_many(records)"
   ]
  },
  {
   "cell_type": "code",
   "execution_count": 6,
   "metadata": {},
   "outputs": [
    {
     "data": {
      "text/plain": [
       "{'_id': ObjectId('5fd4697ee168427e53c3e976'),\n",
       " 'firstname': 'Dwijendra',\n",
       " 'lastname': 'Sahoo',\n",
       " 'Department': 'Analytics'}"
      ]
     },
     "execution_count": 6,
     "metadata": {},
     "output_type": "execute_result"
    }
   ],
   "source": [
    "#find one record\n",
    "empinfo.find_one()"
   ]
  },
  {
   "cell_type": "code",
   "execution_count": 7,
   "metadata": {},
   "outputs": [
    {
     "name": "stdout",
     "output_type": "stream",
     "text": [
      "{'_id': ObjectId('5fd4697ee168427e53c3e976'), 'firstname': 'Dwijendra', 'lastname': 'Sahoo', 'Department': 'Analytics'}\n",
      "{'_id': ObjectId('5fd46a6fe168427e53c3e977'), 'firstname': 'Dwijendra1', 'lastname': 'Sahoo1', 'Department': 'Analytics1'}\n",
      "{'_id': ObjectId('5fd46a6fe168427e53c3e978'), 'firstname': 'Dwijendra2', 'lastname': 'Sahoo2', 'Department': 'Analytics2'}\n",
      "{'_id': ObjectId('5fd46b16406b1674422e27e2'), 'firstname': 'Dwijendra', 'lastname': 'Sahoo', 'Department': 'Analytics'}\n",
      "{'_id': ObjectId('5fd46b16406b1674422e27e3'), 'firstname': 'Dwijendra1', 'lastname': 'Sahoo1', 'Department': 'Analytics1'}\n",
      "{'_id': ObjectId('5fd46b16406b1674422e27e4'), 'firstname': 'Dwijendra2', 'lastname': 'Sahoo2', 'Department': 'Analytics2'}\n",
      "{'_id': ObjectId('5fd46f5ae91060e1745a268c'), 'firstname': 'Krish', 'lastname': 'Naik', 'department': 'Analytics', 'qualification': 'BE', 'age': 29}\n",
      "{'_id': ObjectId('5fd46f80e91060e1745a268d'), 'firstname': 'Krish', 'lastname': 'Naik', 'department': 'Analytics', 'qualification': 'BE', 'age': 29}\n",
      "{'_id': ObjectId('5fd46f8ae91060e1745a268e'), 'firstname': 'John', 'lastname': 'Doe', 'department': 'Analytics', 'qualification': 'statistics', 'age': 35}\n",
      "{'_id': ObjectId('5fd46f8ae91060e1745a268f'), 'firstname': 'John ', 'lastname': 'Smith', 'department': 'Analytics', 'qualification': 'masters', 'age': 30}\n",
      "{'_id': ObjectId('5fd46f8ae91060e1745a2690'), 'firstname': 'Manish', 'lastname': 'Sen', 'department': 'Analytics', 'qualification': 'phd', 'age': 34}\n",
      "{'_id': ObjectId('5fd46f8ae91060e1745a2691'), 'firstname': 'Ram', 'lastname': 'Singh', 'department': 'Analytics', 'qualification': 'master', 'age': 32}\n",
      "{'_id': ObjectId('5fd470e3e91060e1745a2692'), 'firstname': 'Dwijendra', 'lastname': 'Sahoo', 'department': 'Analytics', 'qualification': 'BE', 'age': 26}\n",
      "{'_id': ObjectId('5fd4d004712e2d3a9ebd3997'), 'firstname': 'Dwijendra', 'lastname': 'Sahoo', 'department': 'Analytics', 'qualification': 'BE', 'age': 26}\n",
      "{'_id': ObjectId('5fd4d004712e2d3a9ebd3998'), 'firstname': 'John', 'lastname': 'Doe', 'department': 'Analytics', 'qualification': 'statistics', 'age': 35}\n",
      "{'_id': ObjectId('5fd4d004712e2d3a9ebd3999'), 'firstname': 'John ', 'lastname': 'Smith', 'department': 'Analytics', 'qualification': 'masters', 'age': 30}\n",
      "{'_id': ObjectId('5fd4d004712e2d3a9ebd399a'), 'firstname': 'Manish', 'lastname': 'Sen', 'department': 'Analytics', 'qualification': 'phd', 'age': 34}\n",
      "{'_id': ObjectId('5fd4d004712e2d3a9ebd399b'), 'firstname': 'Ram', 'lastname': 'Singh', 'department': 'Analytics', 'qualification': 'master', 'age': 32}\n",
      "{'_id': ObjectId('5fd4d00cbbb7d8493d66cd5d'), 'firstname': 'Dwijendra', 'lastname': 'Sahoo', 'department': 'Analytics', 'qualification': 'BE', 'age': 26}\n",
      "{'_id': ObjectId('5fd4d00cbbb7d8493d66cd5e'), 'firstname': 'John', 'lastname': 'Doe', 'department': 'Analytics', 'qualification': 'statistics', 'age': 35}\n",
      "{'_id': ObjectId('5fd4d00cbbb7d8493d66cd5f'), 'firstname': 'John ', 'lastname': 'Smith', 'department': 'Analytics', 'qualification': 'masters', 'age': 30}\n",
      "{'_id': ObjectId('5fd4d00cbbb7d8493d66cd60'), 'firstname': 'Manish', 'lastname': 'Sen', 'department': 'Analytics', 'qualification': 'phd', 'age': 34}\n",
      "{'_id': ObjectId('5fd4d00cbbb7d8493d66cd61'), 'firstname': 'Ram', 'lastname': 'Singh', 'department': 'Analytics', 'qualification': 'master', 'age': 32}\n"
     ]
    }
   ],
   "source": [
    "# find all records\n",
    "for record in empinfo.find():\n",
    "    print(record)"
   ]
  },
  {
   "cell_type": "code",
   "execution_count": 8,
   "metadata": {},
   "outputs": [
    {
     "name": "stdout",
     "output_type": "stream",
     "text": [
      "{'_id': ObjectId('5fd4697ee168427e53c3e976'), 'firstname': 'Dwijendra', 'lastname': 'Sahoo', 'Department': 'Analytics'}\n",
      "{'_id': ObjectId('5fd46b16406b1674422e27e2'), 'firstname': 'Dwijendra', 'lastname': 'Sahoo', 'Department': 'Analytics'}\n",
      "{'_id': ObjectId('5fd470e3e91060e1745a2692'), 'firstname': 'Dwijendra', 'lastname': 'Sahoo', 'department': 'Analytics', 'qualification': 'BE', 'age': 26}\n",
      "{'_id': ObjectId('5fd4d004712e2d3a9ebd3997'), 'firstname': 'Dwijendra', 'lastname': 'Sahoo', 'department': 'Analytics', 'qualification': 'BE', 'age': 26}\n",
      "{'_id': ObjectId('5fd4d00cbbb7d8493d66cd5d'), 'firstname': 'Dwijendra', 'lastname': 'Sahoo', 'department': 'Analytics', 'qualification': 'BE', 'age': 26}\n"
     ]
    }
   ],
   "source": [
    "# Query the json documnents\n",
    "\n",
    "for record in empinfo.find({'firstname':'Dwijendra'}):\n",
    "    print(record)"
   ]
  },
  {
   "cell_type": "markdown",
   "metadata": {},
   "source": [
    "#### Query documents using conditional and logical operators"
   ]
  },
  {
   "cell_type": "code",
   "execution_count": 9,
   "metadata": {},
   "outputs": [
    {
     "name": "stdout",
     "output_type": "stream",
     "text": [
      "{'_id': ObjectId('5fd46f8ae91060e1745a2690'), 'firstname': 'Manish', 'lastname': 'Sen', 'department': 'Analytics', 'qualification': 'phd', 'age': 34}\n",
      "{'_id': ObjectId('5fd46f8ae91060e1745a2691'), 'firstname': 'Ram', 'lastname': 'Singh', 'department': 'Analytics', 'qualification': 'master', 'age': 32}\n",
      "{'_id': ObjectId('5fd4d004712e2d3a9ebd399a'), 'firstname': 'Manish', 'lastname': 'Sen', 'department': 'Analytics', 'qualification': 'phd', 'age': 34}\n",
      "{'_id': ObjectId('5fd4d004712e2d3a9ebd399b'), 'firstname': 'Ram', 'lastname': 'Singh', 'department': 'Analytics', 'qualification': 'master', 'age': 32}\n",
      "{'_id': ObjectId('5fd4d00cbbb7d8493d66cd60'), 'firstname': 'Manish', 'lastname': 'Sen', 'department': 'Analytics', 'qualification': 'phd', 'age': 34}\n",
      "{'_id': ObjectId('5fd4d00cbbb7d8493d66cd61'), 'firstname': 'Ram', 'lastname': 'Singh', 'department': 'Analytics', 'qualification': 'master', 'age': 32}\n"
     ]
    }
   ],
   "source": [
    "# $in \n",
    "for record in empinfo.find({'qualification':{'$in':['phd','master']}}):\n",
    "    print(record)"
   ]
  },
  {
   "cell_type": "code",
   "execution_count": 10,
   "metadata": {},
   "outputs": [
    {
     "name": "stdout",
     "output_type": "stream",
     "text": [
      "{'_id': ObjectId('5fd46f8ae91060e1745a2691'), 'firstname': 'Ram', 'lastname': 'Singh', 'department': 'Analytics', 'qualification': 'master', 'age': 32}\n",
      "{'_id': ObjectId('5fd4d004712e2d3a9ebd399b'), 'firstname': 'Ram', 'lastname': 'Singh', 'department': 'Analytics', 'qualification': 'master', 'age': 32}\n",
      "{'_id': ObjectId('5fd4d00cbbb7d8493d66cd61'), 'firstname': 'Ram', 'lastname': 'Singh', 'department': 'Analytics', 'qualification': 'master', 'age': 32}\n"
     ]
    }
   ],
   "source": [
    "# $lt and $and\n",
    "for record in empinfo.find({'qualification':'master','age':{'$lt':35}}):\n",
    "    print(record)"
   ]
  },
  {
   "cell_type": "code",
   "execution_count": 11,
   "metadata": {},
   "outputs": [
    {
     "name": "stdout",
     "output_type": "stream",
     "text": [
      "{'_id': ObjectId('5fd46f8ae91060e1745a268e'), 'firstname': 'John', 'lastname': 'Doe', 'department': 'Analytics', 'qualification': 'statistics', 'age': 35}\n",
      "{'_id': ObjectId('5fd46f8ae91060e1745a2691'), 'firstname': 'Ram', 'lastname': 'Singh', 'department': 'Analytics', 'qualification': 'master', 'age': 32}\n",
      "{'_id': ObjectId('5fd4d004712e2d3a9ebd3998'), 'firstname': 'John', 'lastname': 'Doe', 'department': 'Analytics', 'qualification': 'statistics', 'age': 35}\n",
      "{'_id': ObjectId('5fd4d004712e2d3a9ebd399b'), 'firstname': 'Ram', 'lastname': 'Singh', 'department': 'Analytics', 'qualification': 'master', 'age': 32}\n",
      "{'_id': ObjectId('5fd4d00cbbb7d8493d66cd5e'), 'firstname': 'John', 'lastname': 'Doe', 'department': 'Analytics', 'qualification': 'statistics', 'age': 35}\n",
      "{'_id': ObjectId('5fd4d00cbbb7d8493d66cd61'), 'firstname': 'Ram', 'lastname': 'Singh', 'department': 'Analytics', 'qualification': 'master', 'age': 32}\n"
     ]
    }
   ],
   "source": [
    "# $or \n",
    "for record in empinfo.find({'$or':[{'firstname':'John'},{'qualification':'master'}]}):\n",
    "    print(record)"
   ]
  },
  {
   "cell_type": "code",
   "execution_count": 12,
   "metadata": {},
   "outputs": [],
   "source": [
    "inventory=mydb.inventory"
   ]
  },
  {
   "cell_type": "code",
   "execution_count": 13,
   "metadata": {},
   "outputs": [],
   "source": [
    "inventory.insert_many( [\n",
    "   { 'item': \"journal\", 'qty': 25, 'size': { 'h': 14, 'w': 21,'uom': \"cm\" }, 'status': \"A\" },\n",
    "   { 'item': \"notebook\", 'qty': 50,'size': { 'h': 8.5, 'w': 11,'uom': \"in\" },'status': \"A\" },\n",
    "   { 'item': \"paper\", 'qty': 100, 'size': { 'h': 8.5, 'w': 11,'uom': \"in\" },'status': \"D\" },\n",
    "   { 'item': \"planner\", 'qty': 75, 'size': { 'h': 22.85,'w': 30,'uom': \"cm\" },'status': \"D\" },\n",
    "   { 'item': \"postcard\", 'qty': 45, 'size': { 'h': 10, 'w': 15.25,'uom': \"cm\" },'status': \"A\" }\n",
    "]);"
   ]
  },
  {
   "cell_type": "code",
   "execution_count": 14,
   "metadata": {},
   "outputs": [
    {
     "name": "stdout",
     "output_type": "stream",
     "text": [
      "{'_id': ObjectId('5fd4ce73e91060e1745a2693'), 'item': 'journal', 'qty': 25, 'size': {'h': 14, 'w': 21, 'uom': 'cm'}, 'status': 'A'}\n",
      "{'_id': ObjectId('5fd4d005712e2d3a9ebd399c'), 'item': 'journal', 'qty': 25, 'size': {'h': 14, 'w': 21, 'uom': 'cm'}, 'status': 'A'}\n",
      "{'_id': ObjectId('5fd4d00dbbb7d8493d66cd62'), 'item': 'journal', 'qty': 25, 'size': {'h': 14, 'w': 21, 'uom': 'cm'}, 'status': 'A'}\n"
     ]
    }
   ],
   "source": [
    "for records in inventory.find({'size': { 'h': 14, 'w': 21,'uom': \"cm\" } } ):\n",
    "    print(records)"
   ]
  },
  {
   "cell_type": "code",
   "execution_count": null,
   "metadata": {},
   "outputs": [],
   "source": []
  }
 ],
 "metadata": {
  "kernelspec": {
   "display_name": "Python 3",
   "language": "python",
   "name": "python3"
  },
  "language_info": {
   "codemirror_mode": {
    "name": "ipython",
    "version": 3
   },
   "file_extension": ".py",
   "mimetype": "text/x-python",
   "name": "python",
   "nbconvert_exporter": "python",
   "pygments_lexer": "ipython3",
   "version": "3.7.7"
  }
 },
 "nbformat": 4,
 "nbformat_minor": 4
}
